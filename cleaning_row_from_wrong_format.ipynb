{
 "metadata": {
  "language_info": {
   "codemirror_mode": {
    "name": "ipython",
    "version": 3
   },
   "file_extension": ".py",
   "mimetype": "text/x-python",
   "name": "python",
   "nbconvert_exporter": "python",
   "pygments_lexer": "ipython3",
   "version": "3.9.2-final"
  },
  "orig_nbformat": 2,
  "kernelspec": {
   "name": "python3",
   "display_name": "Python 3",
   "language": "python"
  }
 },
 "nbformat": 4,
 "nbformat_minor": 2,
 "cells": [
  {
   "cell_type": "code",
   "execution_count": 3,
   "metadata": {},
   "outputs": [
    {
     "output_type": "stream",
     "name": "stdout",
     "text": [
      "    Duration       Date  Pulse  Maxpulse  Calories\n0         60 2020-12-01    110       130     409.1\n1         60 2020-12-02    117       145     479.0\n2         60 2020-12-03    103       135     340.0\n3         45 2020-12-04    109       175     282.4\n4         45 2020-12-05    117       148     406.0\n5         60 2020-12-06    102       127     300.0\n6         60 2020-12-07    110       136     374.0\n7        450 2020-12-08    104       134     253.3\n8         30 2020-12-09    109       133     195.1\n9         60 2020-12-10     98       124     269.0\n10        60 2020-12-11    103       147     329.3\n11        60 2020-12-12    100       120     250.7\n12        60 2020-12-12    100       120     250.7\n13        60 2020-12-13    106       128     345.3\n14        60 2020-12-14    104       132     379.3\n15        60 2020-12-15     98       123     275.0\n16        60 2020-12-16     98       120     215.2\n17        60 2020-12-17    100       120     300.0\n18        45 2020-12-18     90       112       NaN\n19        60 2020-12-19    103       123     323.0\n20        45 2020-12-20     97       125     243.0\n21        60 2020-12-21    108       131     364.2\n23        60 2020-12-23    130       101     300.0\n24        45 2020-12-24    105       132     246.0\n25        60 2020-12-25    102       126     334.5\n26        60 2020-12-26    100       120     250.0\n27        60 2020-12-27     92       118     241.0\n28        60 2020-12-28    103       132       NaN\n29        60 2020-12-29    100       132     280.0\n30        60 2020-12-30    102       129     380.3\n31        60 2020-12-31     92       115     243.0\n"
     ]
    }
   ],
   "source": [
    "import pandas as pd \n",
    "v=pd.read_csv('dirtydata.csv')\n",
    "v[\"Date\"]=pd.to_datetime(v[\"Date\"])\n",
    "v.dropna(subset=[\"Date\"],inplace=True)\n",
    "print(v.to_string())"
   ]
  },
  {
   "cell_type": "code",
   "execution_count": null,
   "metadata": {},
   "outputs": [],
   "source": []
  }
 ]
}