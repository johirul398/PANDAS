{
 "metadata": {
  "language_info": {
   "codemirror_mode": {
    "name": "ipython",
    "version": 3
   },
   "file_extension": ".py",
   "mimetype": "text/x-python",
   "name": "python",
   "nbconvert_exporter": "python",
   "pygments_lexer": "ipython3",
   "version": "3.9.2-final"
  },
  "orig_nbformat": 2,
  "kernelspec": {
   "name": "python3",
   "display_name": "Python 3",
   "language": "python"
  }
 },
 "nbformat": 4,
 "nbformat_minor": 2,
 "cells": [
  {
   "cell_type": "code",
   "execution_count": 8,
   "metadata": {},
   "outputs": [
    {
     "output_type": "stream",
     "name": "stdout",
     "text": [
      "   sagor  rohan\n0      1      4\n1      2      5\n2      3      6\nsagor    1\nrohan    4\nName: 0, dtype: int64\n   sagor  rohan\n0      1      4\n1      2      5\n      sagor  rohan\nday1      1      4\nday2      2      5\nday3      3      6\n"
     ]
    }
   ],
   "source": [
    "import pandas as pd \n",
    "a={\n",
    "    \"sagor\":[1,2,3],\n",
    "    \"rohan\":[4,5,6]\n",
    "}\n",
    "v=pd.DataFrame(a)\n",
    "print(v)\n",
    "print(v.loc[0])\n",
    "print(v.loc[[0,1]])\n",
    "v = pd.DataFrame(a, index = [\"day1\", \"day2\", \"day3\"])\n",
    "print(v)"
   ]
  },
  {
   "cell_type": "code",
   "execution_count": 9,
   "metadata": {},
   "outputs": [
    {
     "output_type": "stream",
     "name": "stdout",
     "text": [
      "      sagor  rohan\nday1      1      4\nday2      2      5\nday3      3      6\n"
     ]
    }
   ],
   "source": [
    "v = pd.DataFrame(a, index = [\"day1\", \"day2\", \"day3\"])\n",
    "print(v)"
   ]
  },
  {
   "cell_type": "code",
   "execution_count": 12,
   "metadata": {},
   "outputs": [
    {
     "output_type": "stream",
     "name": "stdout",
     "text": [
      "sagor    2\nrohan    5\nName: day2, dtype: int64\n"
     ]
    }
   ],
   "source": [
    "print(v.loc[\"day2\"])"
   ]
  },
  {
   "cell_type": "code",
   "execution_count": null,
   "metadata": {},
   "outputs": [],
   "source": []
  }
 ]
}