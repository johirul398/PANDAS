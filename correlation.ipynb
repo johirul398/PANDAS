{
 "metadata": {
  "language_info": {
   "codemirror_mode": {
    "name": "ipython",
    "version": 3
   },
   "file_extension": ".py",
   "mimetype": "text/x-python",
   "name": "python",
   "nbconvert_exporter": "python",
   "pygments_lexer": "ipython3",
   "version": "3.9.2-final"
  },
  "orig_nbformat": 2,
  "kernelspec": {
   "name": "python3",
   "display_name": "Python 3",
   "language": "python"
  }
 },
 "nbformat": 4,
 "nbformat_minor": 2,
 "cells": [
  {
   "cell_type": "code",
   "execution_count": 1,
   "metadata": {},
   "outputs": [
    {
     "output_type": "stream",
     "name": "stdout",
     "text": [
      "          Duration     Pulse  Maxpulse  Calories\nDuration  1.000000  0.004410  0.049959 -0.114169\nPulse     0.004410  1.000000  0.276583  0.513186\nMaxpulse  0.049959  0.276583  1.000000  0.357460\nCalories -0.114169  0.513186  0.357460  1.000000\n"
     ]
    }
   ],
   "source": [
    "import pandas as pd \n",
    "d=pd.read_csv('dirtydata.csv')\n",
    "print(d.corr())"
   ]
  },
  {
   "cell_type": "code",
   "execution_count": null,
   "metadata": {},
   "outputs": [],
   "source": []
  }
 ]
}