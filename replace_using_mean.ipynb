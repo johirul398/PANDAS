{
 "metadata": {
  "language_info": {
   "codemirror_mode": {
    "name": "ipython",
    "version": 3
   },
   "file_extension": ".py",
   "mimetype": "text/x-python",
   "name": "python",
   "nbconvert_exporter": "python",
   "pygments_lexer": "ipython3",
   "version": "3.9.2-final"
  },
  "orig_nbformat": 2,
  "kernelspec": {
   "name": "python3",
   "display_name": "Python 3",
   "language": "python"
  }
 },
 "nbformat": 4,
 "nbformat_minor": 2,
 "cells": [
  {
   "cell_type": "code",
   "execution_count": 2,
   "metadata": {},
   "outputs": [
    {
     "output_type": "stream",
     "name": "stdout",
     "text": [
      "    Duration          Date  Pulse  Maxpulse  Calories\n0         60  '2020/12/01'    110       130    409.10\n1         60  '2020/12/02'    117       145    479.00\n2         60  '2020/12/03'    103       135    340.00\n3         45  '2020/12/04'    109       175    282.40\n4         45  '2020/12/05'    117       148    406.00\n5         60  '2020/12/06'    102       127    300.00\n6         60  '2020/12/07'    110       136    374.00\n7        450  '2020/12/08'    104       134    253.30\n8         30  '2020/12/09'    109       133    195.10\n9         60  '2020/12/10'     98       124    269.00\n10        60  '2020/12/11'    103       147    329.30\n11        60  '2020/12/12'    100       120    250.70\n12        60  '2020/12/12'    100       120    250.70\n13        60  '2020/12/13'    106       128    345.30\n14        60  '2020/12/14'    104       132    379.30\n15        60  '2020/12/15'     98       123    275.00\n16        60  '2020/12/16'     98       120    215.20\n17        60  '2020/12/17'    100       120    300.00\n18        45  '2020/12/18'     90       112    304.68\n19        60  '2020/12/19'    103       123    323.00\n20        45  '2020/12/20'     97       125    243.00\n21        60  '2020/12/21'    108       131    364.20\n22        45           NaN    100       119    282.00\n23        60  '2020/12/23'    130       101    300.00\n24        45  '2020/12/24'    105       132    246.00\n25        60  '2020/12/25'    102       126    334.50\n26        60      20201226    100       120    250.00\n27        60  '2020/12/27'     92       118    241.00\n28        60  '2020/12/28'    103       132    304.68\n29        60  '2020/12/29'    100       132    280.00\n30        60  '2020/12/30'    102       129    380.30\n31        60  '2020/12/31'     92       115    243.00\n"
     ]
    }
   ],
   "source": [
    "import pandas as pd \n",
    "x=pd.read_csv('dirtydata.csv')\n",
    "y=x[\"Calories\"].mean()\n",
    "x[\"Calories\"].fillna(y, inplace = True)\n",
    "print(x.to_string())"
   ]
  },
  {
   "cell_type": "code",
   "execution_count": null,
   "metadata": {},
   "outputs": [],
   "source": []
  }
 ]
}